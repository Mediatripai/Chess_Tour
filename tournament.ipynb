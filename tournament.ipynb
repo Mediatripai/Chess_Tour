{
 "cells": [
  {
   "cell_type": "code",
   "execution_count": 20,
   "metadata": {},
   "outputs": [],
   "source": [
    "import csv\n",
    "\n",
    "def txt_to_csv(txt_file, csv_file):\n",
    "  \"\"\"Converts a TXT file to a CSV file with pipe delimiter.\n",
    "\n",
    "  Args:\n",
    "    txt_file: Path to the input TXT file.\n",
    "    csv_file: Path to the output CSV file.\n",
    "  \"\"\"\n",
    "\n",
    "  with open(txt_file, 'r') as f_in, open(csv_file, 'w', newline='') as f_out:\n",
    "    csv_writer = csv.writer(f_out, delimiter='|')\n",
    "    for line in f_in:\n",
    "      csv_writer.writerow(line.strip().split('|'))\n",
    "\n",
    "# Example usage:\n",
    "txt_file = 'chess.txt'\n",
    "csv_file = 'chess.csv'\n",
    "txt_to_csv(txt_file, csv_file)"
   ]
  },
  {
   "cell_type": "code",
   "execution_count": 21,
   "metadata": {},
   "outputs": [],
   "source": [
    "import pandas as pd\n",
    "import re"
   ]
  },
  {
   "cell_type": "code",
   "execution_count": 22,
   "metadata": {},
   "outputs": [
    {
     "name": "stdout",
     "output_type": "stream",
     "text": [
      "Conversion complete. The data has been saved in tournament.csv without separators.\n"
     ]
    }
   ],
   "source": [
    "# Open the input file in read mode and the output file in write mode\n",
    "with open(\"tournament.txt\", \"r\") as infile, open(\"tournament.csv\", \"w\") as outfile:\n",
    "    for line in infile:\n",
    "        # Check if the line contains the separator; if not, replace pipes with commas and write it\n",
    "        if \"-----------------------------------------------------------------------------------------\" not in line:\n",
    "            comma_separated_line = line.replace(\"|\", \",\")\n",
    "            outfile.write(comma_separated_line)\n",
    "\n",
    "print(\"Conversion complete. The data has been saved in tournament.csv without separators.\")"
   ]
  },
  {
   "cell_type": "code",
   "execution_count": 23,
   "metadata": {},
   "outputs": [],
   "source": [
    "import pandas as pd\n",
    "import re\n",
    "\n",
    "# Step 1: Load the file and inspect the contents\n",
    "with open('tournament.txt', 'r') as file:\n",
    "    data = file.readlines()\n",
    "\n",
    "# Step 2: Parse data\n",
    "players = []\n",
    "for line in data:\n",
    "    # Use regex to extract relevant parts or split based on known patterns\n",
    "    # For example:\n",
    "    match = re.match(r\"regex-pattern\", line)\n",
    "    if match:\n",
    "        player_data = {\n",
    "            \"Name\": match.group(1),\n",
    "            \"State\": match.group(2),\n",
    "            \"Points\": float(match.group(3)),\n",
    "            \"Pre-Rating\": int(match.group(4)),\n",
    "            \"Opponents_Ratings\": [int(x) for x in match.group(5).split()]\n",
    "        }\n",
    "        players.append(player_data)\n",
    "\n",
    "# Step 3: Calculate the average opponent rating for each player\n",
    "for player in players:\n",
    "    player['Average_Opponent_Rating'] = sum(player['Opponents_Ratings']) / len(player['Opponents_Ratings'])\n",
    "\n",
    "# Step 4: Convert to DataFrame\n",
    "df = pd.DataFrame(players)\n",
    "\n",
    "# Step 5: Export to CSV\n",
    "df.to_csv(\"chess_tournament_results.csv\", index=False)"
   ]
  },
  {
   "cell_type": "code",
   "execution_count": 24,
   "metadata": {},
   "outputs": [
    {
     "name": "stdout",
     "output_type": "stream",
     "text": [
      "CSV file 'chess_players.csv' has been created.\n"
     ]
    }
   ],
   "source": [
    "import csv\n",
    "import re\n",
    "\n",
    "# Sample input data (shortened for example purposes)\n",
    "players_data = [\n",
    "    {\n",
    "        \"name\": \"GARY HUA\",\n",
    "        \"state\": \"ON\",\n",
    "        \"total_points\": 6.0,\n",
    "        \"pre_rating\": 1794,\n",
    "        \"opponent_ratings\": [1632, 1576, 1482, 1522, 1602, 1620, 1578],  # Example opponent ratings\n",
    "    },\n",
    "    {\n",
    "        \"name\": \"DAKSHESH DARURI\",\n",
    "        \"state\": \"MI\",\n",
    "        \"total_points\": 6.0,\n",
    "        \"pre_rating\": 1553,\n",
    "        \"opponent_ratings\": [1480, 1532, 1630, 1450, 1500, 1610, 1470],\n",
    "    },\n",
    "    # More players can be added similarly\n",
    "]\n",
    "\n",
    "# Function to compute average rating of opponents\n",
    "def calculate_average_opponent_rating(opponent_ratings):\n",
    "    return sum(opponent_ratings) / len(opponent_ratings) if opponent_ratings else 0\n",
    "\n",
    "# Create CSV file\n",
    "with open('chess_players.csv', mode='w', newline='') as file:\n",
    "    writer = csv.writer(file)\n",
    "    writer.writerow([\"Player's Name\", \"Player's State\", \"Total Number of Points\", \"Player's Pre-Rating\", \"Average Pre Tournament Chess Rating of Opponents\"])\n",
    "\n",
    "    for player in players_data:\n",
    "        average_opponent_rating = calculate_average_opponent_rating(player[\"opponent_ratings\"])\n",
    "        writer.writerow([player[\"name\"], player[\"state\"], player[\"total_points\"], player[\"pre_rating\"], average_opponent_rating])\n",
    "\n",
    "print(\"CSV file 'chess_players.csv' has been created.\")"
   ]
  },
  {
   "cell_type": "code",
   "execution_count": 25,
   "metadata": {},
   "outputs": [
    {
     "name": "stdout",
     "output_type": "stream",
     "text": [
      "RangeIndex(start=0, stop=0, step=1)\n"
     ]
    }
   ],
   "source": [
    "print(df.columns)"
   ]
  },
  {
   "cell_type": "code",
   "execution_count": 26,
   "metadata": {},
   "outputs": [
    {
     "ename": "AttributeError",
     "evalue": "'list' object has no attribute 'columns'",
     "output_type": "error",
     "traceback": [
      "\u001b[1;31m---------------------------------------------------------------------------\u001b[0m",
      "\u001b[1;31mAttributeError\u001b[0m                            Traceback (most recent call last)",
      "Cell \u001b[1;32mIn[26], line 1\u001b[0m\n\u001b[1;32m----> 1\u001b[0m data\u001b[38;5;241m.\u001b[39mcolumns \u001b[38;5;241m=\u001b[39m \u001b[43mdata\u001b[49m\u001b[38;5;241;43m.\u001b[39;49m\u001b[43mcolumns\u001b[49m\u001b[38;5;241m.\u001b[39mstr\u001b[38;5;241m.\u001b[39mstrip()  \u001b[38;5;66;03m# This removes any leading/trailing whitespace\u001b[39;00m\n\u001b[0;32m      2\u001b[0m \u001b[38;5;28mprint\u001b[39m(data\u001b[38;5;241m.\u001b[39mcolumns)  \u001b[38;5;66;03m# Check again to confirm\u001b[39;00m\n",
      "\u001b[1;31mAttributeError\u001b[0m: 'list' object has no attribute 'columns'"
     ]
    }
   ],
   "source": [
    "data.columns = data.columns.str.strip()  # This removes any leading/trailing whitespace\n",
    "print(data.columns)  # Check again to confirm"
   ]
  },
  {
   "cell_type": "code",
   "execution_count": null,
   "metadata": {},
   "outputs": [
    {
     "name": "stdout",
     "output_type": "stream",
     "text": [
      "[\"'Pair'\", \"'Player Name'\", \"'Total'\", \"'Round'\", \"'Round.1'\", \"'Round.2'\", \"'Round.3'\", \"'Round.4'\", \"'Round.5'\", \"'Round.6'\", \"''\"]\n"
     ]
    }
   ],
   "source": [
    "print([repr(col) for col in data.columns])"
   ]
  },
  {
   "cell_type": "code",
   "execution_count": null,
   "metadata": {},
   "outputs": [
    {
     "name": "stdout",
     "output_type": "stream",
     "text": [
      "Column not found: 'USCF ID / Rtg (Pre->Post)'\n"
     ]
    }
   ],
   "source": [
    "try:\n",
    "    data[['USCF ID', 'Rating Info']] = data['USCF ID / Rtg (Pre->Post)'].str.split(' / ', expand=True)\n",
    "except KeyError as e:\n",
    "    print(f\"Column not found: {e}\")"
   ]
  },
  {
   "cell_type": "code",
   "execution_count": null,
   "metadata": {},
   "outputs": [
    {
     "name": "stdout",
     "output_type": "stream",
     "text": [
      "Available columns: Index([' Pair ', ' Player Name                     ', 'Total', 'Round',\n",
      "       'Round.1', 'Round.2', 'Round.3', 'Round.4', 'Round.5', 'Round.6', ' '],\n",
      "      dtype='object')\n",
      "Column not found: 'USCF ID / Rtg (Pre->Post)'\n"
     ]
    }
   ],
   "source": [
    "import pandas as pd\n",
    "import matplotlib.pyplot as plt\n",
    "import seaborn as sns\n",
    "\n",
    "# Load the dataset\n",
    "data = pd.read_csv('tournament_data.csv')\n",
    "\n",
    "# Print the column names to identify any discrepancies\n",
    "print(\"Available columns:\", data.columns)\n",
    "\n",
    "# Attempt to split the 'USCF ID / Rtg (Pre->Post)' column into separate columns for 'ID', 'Pre Rating', 'Post Rating'\n",
    "try:\n",
    "    data[['USCF ID', 'Rating Info']] = data['USCF ID / Rtg (Pre->Post)'].str.split(' / ', expand=True)\n",
    "    data[['Pre Rating', 'Post Rating']] = data['Rating Info'].str.split('->', expand=True)\n",
    "\n",
    "    # Convert ratings to integers\n",
    "    data['Pre Rating'] = data['Pre Rating'].astype(int)\n",
    "    data['Post Rating'] = data['Post Rating'].astype(int)\n",
    "\n",
    "    # Split the results columns and clean them\n",
    "    round_columns = [f'Round {i}' for i in range(1, 8)]\n",
    "    for i, col in enumerate(round_columns):\n",
    "        data[col] = data[col].apply(lambda x: x.split(' ')[0])  # Take only the result (W, L, D)\n",
    "\n",
    "    # Total points calculation (assuming each W=1, D=0.5, L=0)\n",
    "    def calculate_points(row):\n",
    "        points = 0\n",
    "        for i in round_columns:\n",
    "            if row[i] == 'W':\n",
    "                points += 1\n",
    "            elif row[i] == 'D':\n",
    "                points += 0.5\n",
    "        return points\n",
    "\n",
    "    data['Total Points'] = data.apply(calculate_points, axis=1)\n",
    "\n",
    "    # Calculate rating change\n",
    "    data['Rating Change'] = data['Post Rating'] - data['Pre Rating']\n",
    "\n",
    "    # Summary statistics\n",
    "    summary = data[['Player Name', 'Total Points', 'Pre Rating', 'Post Rating', 'Rating Change']]\n",
    "\n",
    "    # Show the summary table\n",
    "    print(summary)\n",
    "\n",
    "    # Visualizing total points\n",
    "    plt.figure(figsize=(10, 6))\n",
    "    sns.barplot(x='Player Name', y='Total Points', data=summary.sort_values(by='Total Points', ascending=False))\n",
    "    plt.xticks(rotation=90)\n",
    "    plt.title('Player Performance by Total Points')\n",
    "    plt.xlabel('Player Name')\n",
    "    plt.ylabel('Total Points')\n",
    "    plt.show()\n",
    "\n",
    "    # Visualizing Rating Changes\n",
    "    plt.figure(figsize=(10, 6))\n",
    "    sns.barplot(x='Player Name', y='Rating Change', data=summary.sort_values(by='Rating Change', ascending=False))\n",
    "    plt.xticks(rotation=90)\n",
    "    plt.title('Rating Change per Player')\n",
    "    plt.xlabel('Player Name')\n",
    "    plt.ylabel('Rating Change')\n",
    "    plt.show()\n",
    "\n",
    "except KeyError as e:\n",
    "    print(f\"Column not found: {e}\")"
   ]
  },
  {
   "cell_type": "code",
   "execution_count": null,
   "metadata": {},
   "outputs": [
    {
     "name": "stdout",
     "output_type": "stream",
     "text": [
      "Cleaned columns: Index(['Pair', 'Player Name', 'Total', 'Round', 'Round.1', 'Round.2',\n",
      "       'Round.3', 'Round.4', 'Round.5', 'Round.6', ''],\n",
      "      dtype='object')\n",
      "     Pair                        Player Name  Total  Round Round.1 Round.2  \\\n",
      "0   Num     USCF ID / Rtg (Pre->Post)          Pts     1       2       3     \n",
      "1      1    GARY HUA                          6.0    W  39   W  21   W  18   \n",
      "2     ON    15445895 / R: 1794   ->1817       N:2    W       B       W       \n",
      "3      2    DAKSHESH DARURI                   6.0    W  63   W  58   L   4   \n",
      "4     MI    14598900 / R: 1553   ->1663       N:2    B       W       B       \n",
      "\n",
      "  Round.3 Round.4 Round.5 Round.6       \n",
      "0     4       5       6       7         \n",
      "1   W  14   W   7   D  12   D   4  NaN  \n",
      "2   B       W       B       W      NaN  \n",
      "3   W  17   W  16   W  20   W   7  NaN  \n",
      "4   W       B       W       B      NaN  \n"
     ]
    }
   ],
   "source": [
    "import pandas as pd\n",
    "import matplotlib.pyplot as plt\n",
    "import seaborn as sns\n",
    "\n",
    "# Load the dataset\n",
    "data = pd.read_csv('tournament_data.csv')\n",
    "\n",
    "# Clean column names by stripping leading/trailing spaces\n",
    "data.columns = data.columns.str.strip()\n",
    "\n",
    "# Print the cleaned column names\n",
    "print(\"Cleaned columns:\", data.columns)\n",
    "\n",
    "# Check the first few rows to understand the data structure\n",
    "print(data.head())\n",
    "\n",
    "# At this point, check if there is any column related to ratings (Pre/Post Rating).\n",
    "# If there's no such column, you may need to add it manually or adjust the analysis accordingly."
   ]
  },
  {
   "cell_type": "code",
   "execution_count": null,
   "metadata": {},
   "outputs": [
    {
     "name": "stdout",
     "output_type": "stream",
     "text": [
      "Index([' Pair ', ' Player Name                     ', 'Total', 'Round',\n",
      "       'Round.1', 'Round.2', 'Round.3', 'Round.4', 'Round.5', 'Round.6', ' '],\n",
      "      dtype='object')\n"
     ]
    }
   ],
   "source": [
    "print(df.columns)"
   ]
  },
  {
   "cell_type": "code",
   "execution_count": null,
   "metadata": {},
   "outputs": [
    {
     "name": "stdout",
     "output_type": "stream",
     "text": [
      "Index([' Pair ', ' Player Name                     ', 'Total', 'Round',\n",
      "       'Round.1', 'Round.2', 'Round.3', 'Round.4', 'Round.5', 'Round.6', ' '],\n",
      "      dtype='object')\n",
      "    Pair    Player Name                       Total  Round Round.1 Round.2  \\\n",
      "0   Num     USCF ID / Rtg (Pre->Post)          Pts     1       2       3     \n",
      "1      1    GARY HUA                          6.0    W  39   W  21   W  18   \n",
      "2     ON    15445895 / R: 1794   ->1817       N:2    W       B       W       \n",
      "3      2    DAKSHESH DARURI                   6.0    W  63   W  58   L   4   \n",
      "4     MI    14598900 / R: 1553   ->1663       N:2    B       W       B       \n",
      "\n",
      "  Round.3 Round.4 Round.5 Round.6       \n",
      "0     4       5       6       7         \n",
      "1   W  14   W   7   D  12   D   4  NaN  \n",
      "2   B       W       B       W      NaN  \n",
      "3   W  17   W  16   W  20   W   7  NaN  \n",
      "4   W       B       W       B      NaN  \n"
     ]
    }
   ],
   "source": [
    "import pandas as pd\n",
    "\n",
    "# Load the CSV file\n",
    "file_path = 'tournament_data.csv'\n",
    "data = pd.read_csv(file_path)\n",
    "\n",
    "# Print column names to check for accuracy\n",
    "print(data.columns)\n",
    "\n",
    "# Preview the data\n",
    "print(data.head())\n"
   ]
  },
  {
   "cell_type": "code",
   "execution_count": null,
   "metadata": {},
   "outputs": [
    {
     "name": "stdout",
     "output_type": "stream",
     "text": [
      "Index([' Pair ', ' Player Name                     ', 'Total', 'Round',\n",
      "       'Round.1', 'Round.2', 'Round.3', 'Round.4', 'Round.5', 'Round.6', ' '],\n",
      "      dtype='object')\n",
      "    Pair    Player Name                       Total  Round Round.1 Round.2  \\\n",
      "0   Num     USCF ID / Rtg (Pre->Post)          Pts     1       2       3     \n",
      "1      1    GARY HUA                          6.0    W  39   W  21   W  18   \n",
      "2     ON    15445895 / R: 1794   ->1817       N:2    W       B       W       \n",
      "3      2    DAKSHESH DARURI                   6.0    W  63   W  58   L   4   \n",
      "4     MI    14598900 / R: 1553   ->1663       N:2    B       W       B       \n",
      "\n",
      "  Round.3 Round.4 Round.5 Round.6       \n",
      "0     4       5       6       7         \n",
      "1   W  14   W   7   D  12   D   4  NaN  \n",
      "2   B       W       B       W      NaN  \n",
      "3   W  17   W  16   W  20   W   7  NaN  \n",
      "4   W       B       W       B      NaN  \n",
      "Empty DataFrame\n",
      "Columns: [Player’s Name, Total Number of Points, Player’s Pre-Rating, Average Pre Tournament Chess Rating of Opponents]\n",
      "Index: []\n"
     ]
    }
   ],
   "source": [
    "import pandas as pd\n",
    "import re\n",
    "\n",
    "# Load the CSV file\n",
    "file_path = 'tournament_data.csv'\n",
    "data = pd.read_csv(file_path)\n",
    "\n",
    "# Print column names to check for accuracy\n",
    "print(data.columns)\n",
    "\n",
    "# Preview the first few rows of data\n",
    "print(data.head())\n",
    "\n",
    "# Function to remove all NaN values\n",
    "def remove_nan(df):\n",
    "    return df.dropna()\n",
    "\n",
    "# Remove all NaN values from the dataset\n",
    "data = remove_nan(data)\n",
    "\n",
    "# Clean up the 'Total' column by stripping extra spaces and handling non-numeric values\n",
    "data['Total'] = data['Total'].str.strip()\n",
    "data = data[data['Total'].apply(lambda x: x.isnumeric())]\n",
    "\n",
    "# Define a function to calculate the average pre-tournament rating of opponents\n",
    "def calculate_avg_opponent_rating(row):\n",
    "    opponents = re.findall(r'[WL] (\\d+)', row[' Pair '])\n",
    "    opponent_ratings = []\n",
    "    for opponent in opponents:\n",
    "        opponent_row = data.iloc[int(opponent) - 1]\n",
    "        opponent_pre_rating = int(re.search(r'R: (\\d+)', opponent_row[' Player Name                     ']).group(1))\n",
    "        opponent_ratings.append(opponent_pre_rating)\n",
    "    if opponent_ratings:\n",
    "        return sum(opponent_ratings) / len(opponent_ratings)\n",
    "    return 0\n",
    "\n",
    "# Process each row in the data\n",
    "players = []\n",
    "for index, row in data.iterrows():\n",
    "    name = row[' Player Name                     '].strip()\n",
    "    points = float(row['Total'])\n",
    "    pre_rating = int(re.search(r'R: (\\d+)', row[' Player Name                     ']).group(1))\n",
    "    avg_opponent_rating = calculate_avg_opponent_rating(row)\n",
    "    players.append([name, points, pre_rating, avg_opponent_rating])\n",
    "\n",
    "# Create DataFrame and save to CSV\n",
    "df = pd.DataFrame(players, columns=['Player’s Name', 'Total Number of Points', 'Player’s Pre-Rating', 'Average Pre Tournament Chess Rating of Opponents'])\n",
    "df.to_csv('processed_tournament_data.csv', index=False)\n",
    "\n",
    "print(df)\n"
   ]
  },
  {
   "cell_type": "code",
   "execution_count": null,
   "metadata": {},
   "outputs": [
    {
     "name": "stdout",
     "output_type": "stream",
     "text": [
      "Index([' Pair ', ' Player Name                     ', 'Total', 'Round',\n",
      "       'Round.1', 'Round.2', 'Round.3', 'Round.4', 'Round.5', 'Round.6', ' '],\n",
      "      dtype='object')\n",
      "    Pair    Player Name                       Total  Round Round.1 Round.2  \\\n",
      "0   Num     USCF ID / Rtg (Pre->Post)          Pts     1       2       3     \n",
      "1      1    GARY HUA                          6.0    W  39   W  21   W  18   \n",
      "2     ON    15445895 / R: 1794   ->1817       N:2    W       B       W       \n",
      "3      2    DAKSHESH DARURI                   6.0    W  63   W  58   L   4   \n",
      "4     MI    14598900 / R: 1553   ->1663       N:2    B       W       B       \n",
      "\n",
      "  Round.3 Round.4 Round.5 Round.6       \n",
      "0     4       5       6       7         \n",
      "1   W  14   W   7   D  12   D   4  NaN  \n",
      "2   B       W       B       W      NaN  \n",
      "3   W  17   W  16   W  20   W   7  NaN  \n",
      "4   W       B       W       B      NaN  \n",
      "    Pair    Player Name                       Total  Round Round.1 Round.2  \\\n",
      "0   Num     USCF ID / Rtg (Pre->Post)          Pts     1       2       3     \n",
      "\n",
      "  Round.3 Round.4 Round.5 Round.6     \n",
      "0     4       5       6       7       \n"
     ]
    }
   ],
   "source": [
    "import pandas as pd\n",
    "import re\n",
    "\n",
    "# Load the CSV file (update with the correct path if necessary)\n",
    "file_path = 'tournament_data.csv'\n",
    "data = pd.read_csv(file_path)\n",
    "\n",
    "# Print column names to check for accuracy\n",
    "print(data.columns)\n",
    "\n",
    "# Preview the first few rows of data\n",
    "print(data.head())\n",
    "\n",
    "# Function to clean up the rating and remove extra characters after 'R:'\n",
    "def clean_rating(value):\n",
    "    # Use regular expression to find the rating after 'R:' and remove any extra characters after it\n",
    "    if isinstance(value, str):\n",
    "        match = re.search(r'R:\\s*(\\d+)', value)\n",
    "        if match:\n",
    "            return match.group(1)  # Return only the numeric rating after 'R:'\n",
    "    return value\n",
    "\n",
    "# Apply the function to clean up the 'USCF ID / Rtg (Pre->Post)' column\n",
    "data[' Player Name                     '] = data[' Player Name                     '].apply(clean_rating)\n",
    "\n",
    "# Clean up any NaN values if necessary\n",
    "data = data.dropna()\n",
    "\n",
    "# Save the cleaned data to a new CSV file\n",
    "data.to_csv('cleaned_tournament_data.csv', index=False)\n",
    "\n",
    "# Preview the cleaned data\n",
    "print(data.head())\n"
   ]
  },
  {
   "cell_type": "code",
   "execution_count": null,
   "metadata": {},
   "outputs": [
    {
     "name": "stdout",
     "output_type": "stream",
     "text": [
      "Names: ['8 | EZEKIEL HOUGHTON |5.0 |W 3|W 32|L 14|L 9|W 47|W 28|W 19|', '33 | JADE GE |3.5 |W 60|L 12|W 50|D 36|L 13|L 15|W 51|', 'MI | 15142253 / R: 1641P17->1657P24 |N:3 |B |W |B |W |B |W |W |', '4 | PATRICK H SCHILLING |5.5 |W 23|D 28|W 2|W 26|D 5|W 19|D 1|', '48 | DANIEL KHAIN |2.5 |L 17|W 63|H |D 52|H |L 29|L 35|', '63 | THOMAS JOSEPH HOSMER |1.0 |L 2|L 48|D 49|L 43|L 45|H |U |', 'MI | 15490981 / R: 377P3 ->1076P10 | |B |W |B |W |B |W |W |', '23 | ALAN BUI |4.0 |L 4|W 43|L 20|W 58|L 17|W 37|W 46|', 'MI | 12616049 / R: 1716 ->1744 |N:2 |W |B |W |B |W |B |B |', 'MI | 12405534 / R: 1555 ->1529 |N:4 |W |B |W |B | |W |B |', '59 | SEAN M MC CORMICK |2.0 |L 41|B |L 9|L 40|L 43|W 54|L 44|', 'MI | 14882954 / R: 1507 ->1513 |N:3 |W |W |B |W |B |B |W |', 'ON | 15445895 / R: 1794 ->1817 |N:2 |W |B |W |B |W |B |W |', '36 | SIDDHARTH JHA |3.5 |L 13|W 57|W 51|D 33|H |L 16|D 28|', '6 | HANSEN SONG |5.0 |W 34|D 29|L 11|W 35|D 10|W 27|W 21|', 'ON | 15131520 / R: 1579 ->1564 |N:4 |B |W |B |W |B |W |W |', 'MI | 15108523 / R: 1423 ->1439 |N:4 |W |B |W |W | |B |B |', '56 | MARISA RICCI |2.0 |H |L 11|L 35|W 45|H |L 40|L 42|', '34 | MICHAEL JEFFERY THOMAS |3.5 |L 6|W 60|L 37|W 29|D 25|L 11|W 52|', '45 | DEREK YAN |3.0 |L 5|L 51|D 60|L 56|W 63|D 55|W 58|', 'MI | 15372807 / R: 1242 ->1191 | |W |B |W |B |W |B |W |', 'MI | 11146376 / R: 1649 ->1673 |N:3 |W |B |W |B |B |W |W |', '15 | ZACHARY JAMES HOUGHTON |4.5 |D 19|L 16|W 30|L 22|W 54|W 33|W 38|', 'MI | 15761443 / R: 1403P5 ->1341P9 | |B |W |B |W | | | |', 'MI | 15057092 / R: 1175 ->1125 | |W |B |W |B |B | | |', 'Pair | Player Name |Total|Round|Round|Round|Round|Round|Round|Round|', '58 | VIRAJ MOHILE |2.0 |W 31|L 2|L 41|L 23|L 49|B |L 45|', '26 | MAX ZHU |3.5 |W 49|W 40|W 17|L 4|L 9|D 32|L 11|', 'MI | 14773163 / R: 1355 ->1367 |N:4 |W |B |W |B | |W |B |', '17 | RONALD GRZEGORCZYK |4.0 |W 48|W 41|L 26|L 2|W 23|W 22|L 5|', '5 | HANSHI ZUO |5.5 |W 45|W 37|D 12|D 13|D 4|W 14|W 17|', '37 | AMIYATOSH PWNANANDAM |3.5 |B |L 5|W 34|L 27|H |L 23|W 61|', '53 | JOSE C YBARRA |2.0 |H |L 25|H |L 44|U |W 57|U |', '50 | SHIVAM JHA |2.5 |L 29|W 42|L 33|W 46|H |L 31|L 30|', 'MI | 12681257 / R: 1663 ->1670 |N:3 |W |B |W |B | |W |B |', 'MI | 12841036 / R: 853 -> 878 | |W | |B |B |W |W |B |', '12 | KENNETH J TACK |4.5 |W 42|W 33|D 5|W 38|H |D 1|L 3|', 'MI | 15205474 / R: 1011 ->1097 | |B |W |B |W |B |W |W |', '27 | GAURAV GIDWANI |3.5 |W 51|L 13|W 46|W 37|D 14|L 6|U |', 'MI | 14598900 / R: 1553 ->1663 |N:2 |B |W |B |W |B |W |B |', '30 | GEORGE AVERY JONES |3.5 |L 52|D 64|L 15|W 55|L 31|W 61|W 50|', 'MI | 15489571 / R: 980P12->1077P17 | | |B |W |W | |B |W |', 'MI | 15131618 / R: 1494 ->1444 | |B |W |B |W |B |W |B |', '11 | CAMERON WILLIAM MC LEMAN |4.5 |D 38|W 56|W 6|L 7|L 3|W 34|W 26|', 'MI | 14691842 / R: 1449 ->1421 | |B |W |B |W |B |W |B |', '2 | DAKSHESH DARURI |6.0 |W 63|W 58|L 4|W 17|W 16|W 20|W 7|', '54 | LARRY HODGE |2.0 |L 14|L 39|L 61|B |L 15|L 59|W 64|', 'MI | 12486656 / R: 1745 ->1681 |N:4 |B |W |B |W |B |W |B |', '18 | DAVID SUNDEEN |4.0 |W 47|W 9|L 1|W 32|L 19|W 38|L 10|', 'MI | 14918803 / R: 935 ->1092 |N:4 |B |W |B |W |B |W |B |', 'ON | 15771592 / R: 955P11-> 979P18 | |B |W |B |W |B |W |B |', 'MI | 14862333 / R: 1564 ->1570 |N:3 |W |B |W |B |W |W |B |', 'ON | 15495066 / R: 1563P22->1562 |N:3 |B |W |B |W |W |B |W |', 'MI | 15113330 / R: 1092 ->1079 | |B |W |W |B |W |B | |', '22 | EUGENE L MCCLURE |4.0 |W 64|D 52|L 28|W 15|H |L 17|W 40|', 'MI | 15412571 / R: 1186 ->1163 | |W |B |W |B | |W |B |', 'MI | 11342094 / R: 1600 ->1600 |N:3 |B |W |B |W |B |W |B |', '62 | ASHWIN BALAJI |1.0 |W 55|U |U |U |U |U |U |', '16 | MIKE NIKITIN |4.0 |D 10|W 15|H |W 39|L 2|W 36|U |', '21 | DINH DANG BUI |4.0 |W 43|L 1|W 47|L 3|W 40|W 39|L 6|', 'MI | 14462326 / R: 1332 ->1256 | |B |W |B |B |W |W |B |', 'MI | 12578849 / R: 1393 ->1359 | | |B | |W | |W | |', '9 | STEFANO LEE |5.0 |W 25|L 18|W 59|W 8|W 26|L 7|W 20|', '46 | JACOB ALEXANDER LAVALLEY |3.0 |W 35|L 7|L 27|L 50|W 64|W 43|L 23|', 'ON | 14954524 / R: 1411 ->1564 |N:2 |W |B |W |B |W |B |B |', '32 | JOSHUA PHILIP MATHEWS |3.5 |W 61|L 8|W 44|L 18|W 51|D 26|L 13|', 'OH | 15055204 / R: 1686 ->1687 |N:3 |W |B |W |B |B |W |B |', 'MI | 15006561 / R: 1163 ->1112 | |B |W |W |B |W |B |B |', '44 | JUSTIN D SCHILLING |3.0 |B |L 14|L 32|W 53|L 39|L 24|W 59|', '10 | ANVIT RAO |5.0 |D 16|L 19|W 55|W 31|D 6|W 25|W 18|', 'MI | 10295068 / R: 1604 ->1613 |N:3 |B |W | |B |W |B | |', 'MI | 14773178 / R: 1056 ->1111 | |W |B |W |B | |B |W |', 'MI | 15323285 / R: 1602P6 ->1508P12 |N:4 |B |W |B |W |W |B | |', '39 | JOEL R HENDON |3.0 |L 1|W 54|W 40|L 16|W 44|L 21|L 24|', '13 | TORRANCE HENRY JR |4.5 |W 36|W 27|L 7|D 5|W 33|L 3|W 32|', '64 | BEN LI |1.0 |L 22|D 30|L 31|D 49|L 46|L 42|L 54|', '52 | ETHAN GUO |2.5 |W 30|D 22|L 19|D 48|L 29|D 35|L 34|', 'MI | 14892710 / R: 1348 ->1346 | |B |B |W |W |B |W |W |', 'MI | 14150362 / R: 1365 ->1544 |N:3 |W |W |B |B |W |B |W |', '20 | JASON ZHENG |4.0 |L 40|W 49|W 23|W 41|W 28|L 2|L 9|', '41 | KYLE WILLIAM MURPHY |3.0 |W 59|L 17|W 58|L 20|X |U |U |', '35 | JOSHUA DAVID LEE |3.5 |L 46|L 38|W 56|L 6|W 57|D 52|W 48|', 'MI | 14679887 / R: 1153 ->1140 | | |B |W |W | |B |W |', '28 | SOFIA ADINA STANESCU-BELLU |3.5 |W 24|D 4|W 22|D 19|L 20|L 8|D 36|', '25 | LOREN SCHWIEBERT |3.5 |L 9|W 53|L 3|W 24|D 34|L 10|W 47|', '49 | MICHAEL J MARTIN |2.5 |L 26|L 20|D 63|D 64|W 58|H |U |', 'MI | 15051807 / R: 1399 ->1400 | |B |W |B |B |W |B |W |', '7 | GARY DEE SWATHELL |5.0 |W 57|W 46|W 13|W 11|L 1|W 9|L 2|', 'MI | 14700365 / R: 917 -> 941 | |W |B |W |B |W | |B |', '60 | JULIA SHEN |1.5 |L 33|L 34|D 45|D 42|L 24|H |U |', 'MI | 14579262 / R: 967 -> 984 | |W |B |B |W |B | | |', 'ON | 12577178 / R: 1522 ->1444 | |W |B |B |W |W |B |B |', '24 | MICHAEL R ALDRICH |4.0 |L 28|L 47|W 43|L 25|W 60|W 44|W 39|', '14 | BRADLEY SHAW |4.5 |W 54|W 44|W 8|L 1|D 27|L 5|W 31|', 'MI | 15082995 / R: 1666 ->1662 |N:3 |B |W |B |B |W |W |B |', 'MI | 10131499 / R: 1610 ->1618 |N:3 |W |B |W |W |B |B |W |', 'MI | 12533115 / R: 1362 ->1341 | |W |B |W |B |W |B |W |', '61 | JEZZEL FARKAS |1.5 |L 32|L 3|W 54|L 47|D 42|L 30|L 37|', '38 | BRIAN LIU |3.0 |D 11|W 35|W 29|L 12|H |L 18|L 15|', 'MI | 15619130 / R: 1220P13->1416P20 |N:3 |B |B |W |W |B |B |W |', 'MI | 14601533 / R: 1655 ->1690 |N:2 |B |W |B |W |B |W |B |', '51 | TEJAS AYYAGARI |2.5 |L 27|W 45|L 36|W 57|L 32|D 47|L 33|', 'MI | 15219542 / R: 1530 ->1535 | |B | | | | | | |', '42 | JARED GE |3.0 |L 12|L 50|L 57|D 60|D 61|W 64|W 56|', '43 | ROBERT GLEN VASEY |3.0 |L 21|L 23|L 24|W 63|W 59|L 46|W 55|', '19 | DIPANKAR ROY |4.0 |D 15|W 10|W 52|D 28|W 18|L 4|L 8|', '47 | ERIC WRIGHT |2.5 |L 18|W 24|L 21|W 61|L 8|D 51|L 25|', '1 | GARY HUA |6.0 |W 39|W 21|W 18|W 14|W 7|D 12|D 4|', 'ON | 14073750 / R: 1441 ->1433 |N:4 |W |B |W |B |W |B |W |', 'MI | 14529060 / R: 1595 ->1569 |N:4 |W |B |W |B |W |B |W |', 'MI | 14369165 / R: 1382 ->1335 | |B |W | |B | |W |B |', 'MI | 12836773 / R: 1270 ->1200 | |B |B |W | |W |B |W |', '29 | CHIEDOZIE OKORIE |3.5 |W 50|D 6|L 38|L 34|W 52|W 48|U |', 'MI | 14601397 / R: 1438 ->1392 | |W |W |B |W |B |B |W |', 'MI | 13469010 / R: 1229 ->1300 |N:4 |B |W |B |B |W |W |B |', 'MI | 14476567 / R: 1552 ->1539 |N:4 |W |B |W |B |W |B | |', '55 | ALEX KONG |2.0 |L 62|D 31|L 10|L 30|B |D 45|L 43|', 'MI | 15323504 / R: 1199 ->1199 | | |W |B |B |W |B |W |', 'MI | 12581589 / R: 1712 ->1696 |N:3 |B |W |B |W |B |W |B |', 'MI | 12923035 / R: 1436P23->1413 |N:4 |B |W |B |W |B |W |W |', 'MI | 14101068 / R: 1283 ->1244 | |W |B |W |W |B |B |W |', '57 | MICHAEL LU |2.0 |L 7|L 36|W 42|L 51|L 35|L 53|B |', 'ON | 15030142 / R: 1363 ->1371 | |B |W |B |W |B |W |B |', 'Num | USCF ID / Rtg (Pre->Post) | Pts | 1 | 2 | 3 | 4 | 5 | 6 | 7 |', 'MI | 10297702 / R: 1629 ->1610 |N:3 |W |B |W |B |W |B |W |', 'MI | 12531685 / R: 1291P12->1259P17 | |W |W |B |W |B | | |', '3 | ADITYA BAJAJ |6.0 |L 8|W 61|W 25|W 21|W 11|W 13|W 12|', '31 | RISHI SHETTY |3.5 |L 58|D 55|W 64|L 10|W 30|W 50|L 14|', '40 | FOREST ZHANG |3.0 |W 20|L 26|L 39|W 59|L 21|W 56|L 22|', 'MI | 14959604 / R: 1384 ->1640 |N:2 |W |B |W |B |W |B |W |']\n",
      "States: ['MI', 'MI', 'MI', 'MI', 'MI', 'ON', 'ON', 'MI', 'MI', 'MI', 'MI', 'MI', 'MI', 'MI', 'MI', 'MI', 'MI', 'MI', 'MI', 'MI', 'MI', 'MI', 'ON', 'MI', 'ON', 'MI', 'MI', 'MI', 'MI', 'MI', 'ON', 'OH', 'MI', 'MI', 'MI', 'MI', 'MI', 'MI', 'MI', 'MI', 'MI', 'MI', 'ON', 'MI', 'MI', 'MI', 'MI', 'MI', 'MI', 'ON', 'MI', 'MI', 'MI', 'MI', 'MI', 'MI', 'MI', 'MI', 'MI', 'MI', 'ON', 'MI', 'MI', 'MI']\n",
      "Number of states: 64\n"
     ]
    }
   ],
   "source": [
    "import requests\n",
    "\n",
    "# Download the text file\n",
    "url = \"https://raw.githubusercontent.com/ZacharyHerold/chinafundnews/master/tournamentinfo.txt\"\n",
    "response = requests.get(url)\n",
    "text = response.text\n",
    "\n",
    "# Split lines, remove empty lines and duplicate of the first line\n",
    "lines = text.splitlines()\n",
    "lines = [line.strip() for line in lines]  # Remove leading/trailing whitespaces\n",
    "lines = list(set(lines[1:]))  # Remove empty lines and duplicate of the first line\n",
    "\n",
    "# Extract names (assuming two or more consecutive words separated by a space)\n",
    "names = []\n",
    "for line in lines:\n",
    "    words = line.split()\n",
    "    if len(words) >= 2:\n",
    "        names.append(\" \".join(words))\n",
    "\n",
    "# Extract states (assuming two uppercase letters)\n",
    "states = []\n",
    "for line in lines:\n",
    "    if len(line) >= 2 and line[:2].isupper():\n",
    "        states.append(line[:2])\n",
    "\n",
    "print(\"Names:\", names)\n",
    "print(\"States:\", states)\n",
    "print(\"Number of states:\", len(states))"
   ]
  },
  {
   "cell_type": "code",
   "execution_count": 28,
   "metadata": {},
   "outputs": [
    {
     "name": "stdout",
     "output_type": "stream",
     "text": [
      "Empty DataFrame\n",
      "Columns: [Player ID, Player Name, Total Points, Round 1, Round 2, Round 3, Round 4, Round 5, Round 6, Round 7, State]\n",
      "Index: []\n"
     ]
    }
   ],
   "source": [
    "# Assuming you have the text data from the tournament info\n",
    "text_data = \"\"\"\n",
    "# Your tournament data here\n",
    "\"\"\"\n",
    "\n",
    "# Extract names and states from the text data (adjust the extraction logic as needed)\n",
    "Names = []\n",
    "States = []\n",
    "for line in text_data.splitlines():\n",
    "    if \"|\" in line:\n",
    "        name_parts = line.split(\"|\")\n",
    "        name = name_parts[1].strip()\n",
    "        state = name_parts[0].strip()  # Assuming state is the first part\n",
    "        Names.append(name)\n",
    "        States.append(state)\n",
    "\n",
    "# Create the DataFrame\n",
    "player_data = []\n",
    "for name_str, state in zip(Names, States):\n",
    "    parts = name_str.split('|')\n",
    "    player_id, player_name, total_points, *rounds = parts\n",
    "    player_data.append([player_id.strip(), player_name.strip(), total_points.strip(), *rounds, state])\n",
    "\n",
    "# Create the DataFrame\n",
    "df = pd.DataFrame(player_data, columns=['Player ID', 'Player Name', 'Total Points', 'Round 1', 'Round 2', 'Round 3', 'Round 4', 'Round 5', 'Round 6', 'Round 7', 'State'])\n",
    "\n",
    "print(df.head())"
   ]
  }
 ],
 "metadata": {
  "kernelspec": {
   "display_name": "Python 3",
   "language": "python",
   "name": "python3"
  },
  "language_info": {
   "codemirror_mode": {
    "name": "ipython",
    "version": 3
   },
   "file_extension": ".py",
   "mimetype": "text/x-python",
   "name": "python",
   "nbconvert_exporter": "python",
   "pygments_lexer": "ipython3",
   "version": "3.12.7"
  }
 },
 "nbformat": 4,
 "nbformat_minor": 2
}
